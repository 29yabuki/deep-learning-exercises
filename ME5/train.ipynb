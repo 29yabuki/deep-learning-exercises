{
 "cells": [
  {
   "cell_type": "code",
   "execution_count": null,
   "id": "a2997b6a",
   "metadata": {},
   "outputs": [],
   "source": [
    "from ultralytics import YOLO"
   ]
  },
  {
   "cell_type": "code",
   "execution_count": null,
   "id": "4961a1cd",
   "metadata": {},
   "outputs": [],
   "source": [
    "model = YOLO(model=\"models/yolo11x-ft.pt\")"
   ]
  },
  {
   "cell_type": "code",
   "execution_count": null,
   "id": "5dc358ea-9608-424b-8f82-1d0a69924a20",
   "metadata": {},
   "outputs": [
    {
     "name": "stderr",
     "output_type": "stream",
     "text": [
      "       4/20      7.84G      1.602        1.2      1.041         13        320:  96%|█████████▋| 453/470 [2:22:23<00:07,  2.42it/s]"
     ]
    }
   ],
   "source": [
    "results = model.train(\n",
    "    data=\"../../training/ph_vehicles/data.yaml\",\n",
    "    device=\"mps\",\n",
    "    epochs=20,\n",
    "    imgsz=320,\n",
    "    batch=2,\n",
    "    workers=8,\n",
    ")"
   ]
  },
  {
   "cell_type": "code",
   "execution_count": null,
   "id": "c3fd9355-41fa-444e-a7d6-6854067ab246",
   "metadata": {},
   "outputs": [],
   "source": []
  }
 ],
 "metadata": {
  "kernelspec": {
   "display_name": "AI222",
   "language": "python",
   "name": "python3"
  },
  "language_info": {
   "codemirror_mode": {
    "name": "ipython",
    "version": 3
   },
   "file_extension": ".py",
   "mimetype": "text/x-python",
   "name": "python",
   "nbconvert_exporter": "python",
   "pygments_lexer": "ipython3",
   "version": "3.10.11"
  }
 },
 "nbformat": 4,
 "nbformat_minor": 5
}
